{
 "cells": [
  {
   "cell_type": "markdown",
   "metadata": {},
   "source": [
    "For Mar. 8, check in a notebook that does 7.1, 7.2 and 7.4"
   ]
  },
  {
   "cell_type": "code",
   "execution_count": 90,
   "metadata": {
    "collapsed": false
   },
   "outputs": [
    {
     "name": "stderr",
     "output_type": "stream",
     "text": [
      "/Users/blairvanandel/anaconda/lib/python3.5/site-packages/ipykernel/__main__.py:12: DeprecationWarning: using a non-integer number instead of an integer will result in an error in the future\n",
      "/Users/blairvanandel/anaconda/lib/python3.5/site-packages/ipykernel/__main__.py:16: DeprecationWarning: using a non-integer number instead of an integer will result in an error in the future\n",
      "/Users/blairvanandel/anaconda/lib/python3.5/site-packages/ipykernel/__main__.py:20: DeprecationWarning: using a non-integer number instead of an integer will result in an error in the future\n",
      "/Users/blairvanandel/anaconda/lib/python3.5/site-packages/matplotlib/axes/_axes.py:519: UserWarning: No labelled objects found. Use label='...' kwarg on individual plots.\n",
      "  warnings.warn(\"No labelled objects found. \"\n"
     ]
    },
    {
     "data": {
      "image/png": "[encoded data removed]",
      "text/plain": [
       "<matplotlib.figure.Figure at 0x1153a4be0>"
      ]
     },
     "metadata": {},
     "output_type": "display_data"
    }
   ],
   "source": [
    "%matplotlib inline\n",
    "\n",
    "def find_bessel(xval,n):\n",
    "    \"\"\"Takes and array and then calculates the spherical \n",
    "        Bessel function of a given magnitude up to n = 2\n",
    "        Inputs: xval = array of floats in radians \n",
    "                n = order value (can only = 0 or 1 or 2)\n",
    "        Output: Array of bessel function\n",
    "    \"\"\"\n",
    "    jx = []\n",
    "    for i in xval:\n",
    "        if n == 0 and xval[i] == 0:   \n",
    "            jx.append(1)\n",
    "        elif n == 0:\n",
    "            jx.append(np.sin(xval[i])/xval[i])\n",
    "        elif n == 1 and xval[i] == 0:\n",
    "            jx.append(0)\n",
    "        elif n == 1:\n",
    "            jx.append((np.sin(xval[i])/xval[i]**2)-(np.cos(xval[i])/xval[i]))\n",
    "        elif n == 2 and xval[i] == 0:\n",
    "            jx.append(0)\n",
    "        elif n == 2:\n",
    "            jx.append((((3/xval[i]**2)-1)*(np.sin(xval[i])/xval[i]))-(3*np.cos(xval[i])/xval[i]**2))\n",
    "    return jx\n",
    "\n",
    "\n",
    "\n",
    "besselx = np.arange(0,20.05,0.05)*np.pi/180\n",
    "\n",
    "fig,ax = plt.subplots(1,1)\n",
    "ax.plot(besselx, find_bessel(besselx,0), color = 'b', label = 'j0(X)')\n",
    "ax.plot(besselx, find_bessel(besselx,1), color = 'g', label = 'j1(X)')\n",
    "ax.plot(besselx, find_bessel(besselx,2), color = 'r', label = 'j2(x)')\n",
    "ax.set(xlabel = 'x')\n",
    "out=ax1.legend(loc='best')\n"
   ]
  },
  {
   "cell_type": "code",
   "execution_count": 66,
   "metadata": {
    "collapsed": false
   },
   "outputs": [
    {
     "data": {
      "text/plain": [
       "[<matplotlib.text.Text at 0x1124ba0f0>]"
      ]
     },
     "execution_count": 66,
     "metadata": {},
     "output_type": "execute_result"
    },
    {
     "data": {
      "image/png": "[encoded data removed]",
      "text/plain": [
       "<matplotlib.figure.Figure at 0x111ad84a8>"
      ]
     },
     "metadata": {},
     "output_type": "display_data"
    }
   ],
   "source": [
    "def rollsum(ndice):\n",
    "    \"\"\"calculate the sum of dice thrown using random integer generator between 1 and 6\n",
    "        Input: number of die\n",
    "        Output: sum of n rolled die\n",
    "    \"\"\"\n",
    "    diearray = [] \n",
    "    for i in range(0,(ndice)):\n",
    "        diearray.append(np.random.random_integers(6))\n",
    "    return np.sum(diearray)       \n",
    "\n",
    "tenkroll1 = []\n",
    "for i in range(0,10000):\n",
    "    tenkroll1.append(rollsum(2))\n",
    "\n",
    "tenkroll2 = []\n",
    "for i in range(0,10000):\n",
    "    tenkroll2.append(rollsum(3))\n",
    "\n",
    "fig,ax = plt.subplots(1)\n",
    "ax.hist(tenkroll1, bins = 11, color='b')\n",
    "ax.set(xlabel='sum of 2 dice') #for future reference you can do ax.set_xlabel('label goes here')"
   ]
  },
  {
   "cell_type": "code",
   "execution_count": 74,
   "metadata": {
    "collapsed": false
   },
   "outputs": [
    {
     "data": {
      "text/plain": [
       "[<matplotlib.text.Text at 0x1137e80b8>]"
      ]
     },
     "execution_count": 74,
     "metadata": {},
     "output_type": "execute_result"
    },
    {
     "data": {
      "image/png": "[encoded data removed]",
      "text/plain": [
       "<matplotlib.figure.Figure at 0x1133c0ef0>"
      ]
     },
     "metadata": {},
     "output_type": "display_data"
    }
   ],
   "source": [
    "fig,ax = plt.subplots(1)\n",
    "ax.hist(tenkroll2, bins = 16, color='r')\n",
    "ax.set(xlabel='sum of 3 dice')"
   ]
  },
  {
   "cell_type": "code",
   "execution_count": null,
   "metadata": {
    "collapsed": true
   },
   "outputs": [],
   "source": []
  }
 ],
 "metadata": {
  "kernelspec": {
   "display_name": "Python 3",
   "language": "python",
   "name": "python3"
  },
  "language_info": {
   "codemirror_mode": {
    "name": "ipython",
    "version": 3
   },
   "file_extension": ".py",
   "mimetype": "text/x-python",
   "name": "python",
   "nbconvert_exporter": "python",
   "pygments_lexer": "ipython3",
   "version": "3.5.1"
  }
 },
 "nbformat": 4,
 "nbformat_minor": 0
}
