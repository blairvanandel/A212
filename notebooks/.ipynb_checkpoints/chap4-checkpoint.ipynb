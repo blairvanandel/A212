{
 "cells": [
  {
   "cell_type": "markdown",
   "metadata": {},
   "source": [
    "### Do Pine problem 4.1 and 4.3 \n"
   ]
  },
  {
   "cell_type": "markdown",
   "metadata": {},
   "source": [
    "4.1)Write a Python program that calculates how much money you can spend each day for lunch for the rest of the month based on today’s date and how much money you currently have in your lunch account. The program should ask you: (1) how much money you have in your account, (2) what today’s date is, and (3) how many days there are in month. The program should return your daily allowance. The results of running your program should look like this:"
   ]
  },
  {
   "cell_type": "code",
   "execution_count": 6,
   "metadata": {
    "collapsed": false
   },
   "outputs": [
    {
     "name": "stdout",
     "output_type": "stream",
     "text": [
      "Money in your lunch account? $ 118.39\n",
      "What day of the month is today? 17\n",
      "How many days in this month? 30\n",
      "You can spend = $8.46 each day for the rest of the month\n"
     ]
    }
   ],
   "source": [
    "account_total = 118.39 #$\n",
    "dom = 17 #day of month\n",
    "dim = 30 #total days in month\n",
    "tdspend = account_total/(dim-dom+1) #daily budget for lunch\n",
    "\n",
    "print('Money in your lunch account? $',str(account_total))\n",
    "print('What day of the month is today?', str(dom))\n",
    "print('How many days in this month?', str(dim))\n",
    "print(\"You can spend = ${0:0.2f} each day for the rest of the month\".format(tdspend))"
   ]
  },
  {
   "cell_type": "markdown",
   "metadata": {},
   "source": [
    "4.3) Create the following data file and then write a Python script to read it into a three NumPy arrays with the variable names f, a, da for the frequency, amplitude, and amplitude error."
   ]
  },
  {
   "cell_type": "code",
   "execution_count": 17,
   "metadata": {
    "collapsed": false
   },
   "outputs": [],
   "source": [
    "f, a, da = np.loadtxt(\"chap4_problem_4.3.txt\", skiprows=3,  unpack=True )"
   ]
  },
  {
   "cell_type": "code",
   "execution_count": 21,
   "metadata": {
    "collapsed": false
   },
   "outputs": [
    {
     "data": {
      "text/plain": [
       "array([  0.75  ,   1.7885,   2.8269,   3.8654,   4.9038,   5.9423,\n",
       "         6.9808,   8.0192,   9.0577,  10.0962,  11.1346,  12.1731,\n",
       "        13.2115,  14.25  ])"
      ]
     },
     "execution_count": 21,
     "metadata": {},
     "output_type": "execute_result"
    }
   ],
   "source": [
    "f\n",
    "\n",
    "\n"
   ]
  },
  {
   "cell_type": "code",
   "execution_count": 22,
   "metadata": {
    "collapsed": false
   },
   "outputs": [
    {
     "data": {
      "text/plain": [
       "array([ 13.52,  12.11,  14.27,  16.6 ,  22.91,  35.28,  60.99,  33.38,\n",
       "        17.78,  10.99,   7.47,   6.72,   4.4 ,   4.07])"
      ]
     },
     "execution_count": 22,
     "metadata": {},
     "output_type": "execute_result"
    }
   ],
   "source": [
    "a"
   ]
  },
  {
   "cell_type": "code",
   "execution_count": 23,
   "metadata": {
    "collapsed": false
   },
   "outputs": [
    {
     "data": {
      "text/plain": [
       "array([ 0.32,  0.92,  0.73,  2.06,  1.75,  0.91,  0.99,  0.36,  2.32,\n",
       "        0.21,  0.48,  0.51,  0.58,  0.63])"
      ]
     },
     "execution_count": 23,
     "metadata": {},
     "output_type": "execute_result"
    }
   ],
   "source": [
    "da"
   ]
  },
  {
   "cell_type": "code",
   "execution_count": null,
   "metadata": {
    "collapsed": true
   },
   "outputs": [],
   "source": []
  }
 ],
 "metadata": {
  "kernelspec": {
   "display_name": "Python 3",
   "language": "python",
   "name": "python3"
  },
  "language_info": {
   "codemirror_mode": {
    "name": "ipython",
    "version": 3
   },
   "file_extension": ".py",
   "mimetype": "text/x-python",
   "name": "python",
   "nbconvert_exporter": "python",
   "pygments_lexer": "ipython3",
   "version": "3.5.1"
  }
 },
 "nbformat": 4,
 "nbformat_minor": 0
}
