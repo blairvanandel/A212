{
 "cells": [
  {
   "cell_type": "markdown",
   "metadata": {},
   "source": [
    "a)Write the factorial function using a Python while loop."
   ]
  },
  {
   "cell_type": "code",
   "execution_count": null,
   "metadata": {
    "collapsed": false
   },
   "outputs": [],
   "source": [
    "def while_factorial(n):\n",
    "    \"\"\" Input: n\n",
    "        Output n!\n",
    "    \"\"\"\n",
    "    \n",
    "    i = 1\n",
    "    while n >= 1:\n",
    "        i = i * n\n",
    "        n = n - 1\n",
    "    return (i)\n",
    "    print(i)\n",
    "    \n",
    "while_factorial(1), while_factorial(2), while_factorial(3), while_factorial(4), while_factorial(5)"
   ]
  },
  {
   "cell_type": "markdown",
   "metadata": {},
   "source": [
    "b)Write the factorial function using a Python for loop."
   ]
  },
  {
   "cell_type": "code",
   "execution_count": null,
   "metadata": {
    "collapsed": false
   },
   "outputs": [],
   "source": [
    "def for_factorial(n):\n",
    "    \"\"\"Input: n\n",
    "       Outpu: n!\n",
    "    \"\"\"\n",
    "    fac = 1\n",
    "    for i in range(1, n +1):\n",
    "        fac *= i\n",
    "    return fac\n",
    "    print(fac)\n",
    "\n",
    "for_factorial(1), for_factorial(2), for_factorial(3), for_factorial(4), for_factorial(5)\n",
    "    "
   ]
  },
  {
   "cell_type": "markdown",
   "metadata": {},
   "source": [
    "The following Python program finds the smallest non-trivial (not 1) prime factor of a positive integer."
   ]
  },
  {
   "cell_type": "code",
   "execution_count": null,
   "metadata": {
    "collapsed": false
   },
   "outputs": [],
   "source": [
    "n = int(input(\"Input an integer > 1: \"))\n",
    "i = 2\n",
    "\n",
    "while (n % i) != 0:\n",
    "    i += 1\n",
    "\n",
    "print(\"The smallest factor of n is:\", i )"
   ]
  },
  {
   "cell_type": "markdown",
   "metadata": {},
   "source": [
    "It works by finding a denominator that doesnt give a remainder from the user inputed numerator.\n",
    "Starting at 2 as the numerator and incresing its value by 1 every time there is a remainder the loop finds the first value which leaves no remainder which is also the smallest factor. \n",
    "\n",
    "The loop will always terminate because at some point n % i will approach 0 "
   ]
  },
  {
   "cell_type": "code",
   "execution_count": 2,
   "metadata": {
    "collapsed": false
   },
   "outputs": [
    {
     "name": "stdout",
     "output_type": "stream",
     "text": [
      "Input an integer > 1: 4\n",
      "The smallest factor of n is: 2\n"
     ]
    }
   ],
   "source": [
    "n = int(input(\"Input an integer > 1: \"))\n",
    "i = 2\n",
    "\n",
    "while (n % i) != 0:\n",
    "    i += 1\n",
    "    \n",
    "if i == n: \n",
    "    print(n, 'is a prime number')\n",
    "else:\n",
    "    print(\"The smallest factor of n is:\", i )"
   ]
  },
  {
   "cell_type": "markdown",
   "metadata": {
    "collapsed": true
   },
   "source": [
    "Consider the matrix list x = [[1, 2, 3], [4, 5, 6], [7, 8, 9]]. Write a list comprehension to extract the last column of the matrix [3, 6, 9]. Write another list comprehension to create a vector of twice the square of the middle column [8, 50, 128]."
   ]
  },
  {
   "cell_type": "code",
   "execution_count": 15,
   "metadata": {
    "collapsed": false
   },
   "outputs": [
    {
     "name": "stdout",
     "output_type": "stream",
     "text": [
      "[3, 6, 9]\n"
     ]
    }
   ],
   "source": [
    "x = [[1, 2, 3], [4, 5, 6], [7, 8, 9]]\n",
    "\n",
    "lastcol = [a[2] for a in x]\n",
    "print(lastcol)\n",
    "    "
   ]
  },
  {
   "cell_type": "code",
   "execution_count": 23,
   "metadata": {
    "collapsed": false
   },
   "outputs": [
    {
     "name": "stdout",
     "output_type": "stream",
     "text": [
      "[8, 50, 128]\n"
     ]
    }
   ],
   "source": [
    "twicesquauremid = list(2*np.array([a[1] for a in x])**2)\n",
    "print(twicesquauremid)"
   ]
  },
  {
   "cell_type": "code",
   "execution_count": null,
   "metadata": {
    "collapsed": true
   },
   "outputs": [],
   "source": []
  }
 ],
 "metadata": {
  "kernelspec": {
   "display_name": "Python 3",
   "language": "python",
   "name": "python3"
  },
  "language_info": {
   "codemirror_mode": {
    "name": "ipython",
    "version": 3
   },
   "file_extension": ".py",
   "mimetype": "text/x-python",
   "name": "python",
   "nbconvert_exporter": "python",
   "pygments_lexer": "ipython3",
   "version": "3.5.1"
  }
 },
 "nbformat": 4,
 "nbformat_minor": 0
}
